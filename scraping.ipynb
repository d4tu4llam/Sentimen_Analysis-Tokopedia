{
 "cells": [
  {
   "cell_type": "code",
   "execution_count": null,
   "metadata": {},
   "outputs": [
    {
     "name": "stdout",
     "output_type": "stream",
     "text": [
      "Requirement already satisfied: google_play_scraper in c:\\users\\hilmi\\anaconda3\\envs\\analisis-data\\lib\\site-packages (1.2.7)\n"
     ]
    }
   ],
   "source": [
    "import pandas as pd\n",
    "from google_play_scraper import reviews, Sort"
   ]
  },
  {
   "cell_type": "code",
   "execution_count": null,
   "metadata": {},
   "outputs": [],
   "source": [
    "def scraping():\n",
    "    scrapreview, _ = reviews(\n",
    "        'com.tokopedia.tkpd',\n",
    "        lang='id',\n",
    "        country='id',\n",
    "        sort=Sort.NEWEST,\n",
    "        count=50000\n",
    "    )\n",
    "\n",
    "    data = pd.DataFrame(scrapreview)\n",
    "    data.to_csv('tokopedia_review_all.csv', index=False)\n",
    "\n",
    "scraping()\n"
   ]
  }
 ],
 "metadata": {
  "kernelspec": {
   "display_name": "analisis-data",
   "language": "python",
   "name": "python3"
  },
  "language_info": {
   "codemirror_mode": {
    "name": "ipython",
    "version": 3
   },
   "file_extension": ".py",
   "mimetype": "text/x-python",
   "name": "python",
   "nbconvert_exporter": "python",
   "pygments_lexer": "ipython3",
   "version": "3.9.21"
  }
 },
 "nbformat": 4,
 "nbformat_minor": 2
}
